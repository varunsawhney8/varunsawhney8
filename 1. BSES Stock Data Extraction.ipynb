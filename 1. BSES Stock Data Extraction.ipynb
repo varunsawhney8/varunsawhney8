{
  "nbformat": 4,
  "nbformat_minor": 0,
  "metadata": {
    "colab": {
      "name": "Web Extraction-Selenium+YahooFinance.ipynb",
      "provenance": [],
      "authorship_tag": "ABX9TyMzUl+RsT3jyb9g3l/93aR9",
      "include_colab_link": true
    },
    "kernelspec": {
      "name": "python3",
      "display_name": "Python 3"
    },
    "language_info": {
      "name": "python"
    }
  },
  "cells": [
    {
      "cell_type": "markdown",
      "metadata": {
        "id": "view-in-github",
        "colab_type": "text"
      },
      "source": [
        "<a href=\"https://colab.research.google.com/github/varunsawhney8/varunsawhney8/blob/main/1.%20BSES%20Stock%20Data%20Extraction.ipynb\" target=\"_parent\"><img src=\"https://colab.research.google.com/assets/colab-badge.svg\" alt=\"Open In Colab\"/></a>"
      ]
    },
    {
      "cell_type": "markdown",
      "metadata": {
        "id": "DCpkArwgfEgB"
      },
      "source": [
        "Project Goal: Extract BSE companies Historical Data."
      ]
    },
    {
      "cell_type": "code",
      "metadata": {
        "colab": {
          "base_uri": "https://localhost:8080/"
        },
        "id": "x7i1lUK0dTg9",
        "outputId": "d5f7cd28-1c5b-4a3c-cac5-8e75c481bc56"
      },
      "source": [
        "!pip install yfinance"
      ],
      "execution_count": 44,
      "outputs": [
        {
          "output_type": "stream",
          "name": "stdout",
          "text": [
            "Looking in indexes: https://pypi.org/simple, https://us-python.pkg.dev/colab-wheels/public/simple/\n",
            "Requirement already satisfied: yfinance in /usr/local/lib/python3.7/dist-packages (0.1.74)\n",
            "Requirement already satisfied: requests>=2.26 in /usr/local/lib/python3.7/dist-packages (from yfinance) (2.28.1)\n",
            "Requirement already satisfied: lxml>=4.5.1 in /usr/local/lib/python3.7/dist-packages (from yfinance) (4.9.1)\n",
            "Requirement already satisfied: multitasking>=0.0.7 in /usr/local/lib/python3.7/dist-packages (from yfinance) (0.0.11)\n",
            "Requirement already satisfied: pandas>=0.24.0 in /usr/local/lib/python3.7/dist-packages (from yfinance) (1.3.5)\n",
            "Requirement already satisfied: numpy>=1.15 in /usr/local/lib/python3.7/dist-packages (from yfinance) (1.21.6)\n",
            "Requirement already satisfied: pytz>=2017.3 in /usr/local/lib/python3.7/dist-packages (from pandas>=0.24.0->yfinance) (2022.2.1)\n",
            "Requirement already satisfied: python-dateutil>=2.7.3 in /usr/local/lib/python3.7/dist-packages (from pandas>=0.24.0->yfinance) (2.8.2)\n",
            "Requirement already satisfied: six>=1.5 in /usr/local/lib/python3.7/dist-packages (from python-dateutil>=2.7.3->pandas>=0.24.0->yfinance) (1.15.0)\n",
            "Requirement already satisfied: urllib3<1.27,>=1.21.1 in /usr/local/lib/python3.7/dist-packages (from requests>=2.26->yfinance) (1.24.3)\n",
            "Requirement already satisfied: certifi>=2017.4.17 in /usr/local/lib/python3.7/dist-packages (from requests>=2.26->yfinance) (2022.6.15)\n",
            "Requirement already satisfied: charset-normalizer<3,>=2 in /usr/local/lib/python3.7/dist-packages (from requests>=2.26->yfinance) (2.1.1)\n",
            "Requirement already satisfied: idna<4,>=2.5 in /usr/local/lib/python3.7/dist-packages (from requests>=2.26->yfinance) (2.10)\n"
          ]
        }
      ]
    },
    {
      "cell_type": "code",
      "metadata": {
        "id": "No1u9W_OdaED"
      },
      "source": [
        "import pandas as pd\n",
        "import numpy as np\n",
        "import yfinance as yf\n",
        "from datetime import date"
      ],
      "execution_count": 61,
      "outputs": []
    },
    {
      "cell_type": "code",
      "metadata": {
        "id": "bmCkMJjPeNMG"
      },
      "source": [
        "company={ 1: ['ASIAN PAINTS', 'ASIANPAINT.NS', 'PAINTS'], 2: ['AXIS BANK', 'AXISBANK.NS', 'BANKING'],\n",
        "3: ['BAJAJ FINANCE', 'BAJFINANCE.NS', 'FINANCE'], 4: ['BAJAJ FINSERV', 'BAJAJFINSV.NS', 'FINANCE'],\n",
        "5: ['BHARTI AIRTEL', 'BHARTIARTL.NS', 'TELECOM'], 6: ['DR. REDDYS LAB', 'DRREDDY.NS', 'PHARMA'],\n",
        "7: ['HCL TECHNOLOGIES', 'HCLTECH.NS', 'SOFTWARE'], 8: ['HDFC', 'HDFC.NS', 'FIN. INSTITUTIONS'],\n",
        "9: ['HDFC BANK', 'HDFCBANK.NS', 'BANKING'], 10: ['HUL', 'HINDUNILVR.NS', 'FMCG'],\n",
        "11: ['ICICI BANK', 'ICICIBANK.NS', 'BANKING'], 12: ['INDUSIND BANK', 'INDUSINDBK.NS', 'BANKING'],\n",
        "13: ['INFOSYS', 'INFY.NS', 'SOFTWARE'], 14: ['ITC', 'ITC.NS', 'FMCG'],\n",
        "15: ['KOTAK MAHINDRA BANK', 'KOTAKBANK.NS', 'BANKING'], 16: ['L&T', 'LT.NS', 'ENGINEERING'],\n",
        "17: ['M&M', 'M&M.NS', 'AUTO'], 18: ['MARUTI SUZUKI', 'MARUTI.NS', 'AUTO'],\n",
        "19: ['NESTLE', 'NESTLEIND.NS', 'FOOD BEVERAGES'], 20: ['NTPC', 'NTPC.NS', 'POWER'],\n",
        "21: ['POWER GRID', 'POWERGRID.NS', 'POWER'], 22: ['RELIANCE IND.', 'RELIANCE.NS', 'ENERGY'],\n",
        "23: ['SBI', 'SBIN.NS', 'BANKING'], 24: ['SUN PHARMA', 'SUNPHARMA.NS', 'PHARMA'],\n",
        "25: ['TATA STEEL', 'TATASTEEL.NS', 'STEEL'], 26: ['TCS', 'TCS.NS', 'SOFTWARE'],\n",
        "27: ['TECH MAHINDRA', 'TECHM.NS', 'SOFTWARE'], 28: ['TITAN', 'TITAN.NS', 'CONSUMER DURABLES'],\n",
        "29: ['ULTRATECH CEMENT', 'ULTRACEMCO.NS', 'CEMENT'], 30: ['WIPRO', 'WIPRO.NS', 'SOFTWARE'] }\n"
      ],
      "execution_count": 48,
      "outputs": []
    },
    {
      "cell_type": "code",
      "source": [
        "df = pd.DataFrame(columns=['Date','Close','Company','Industry'])"
      ],
      "metadata": {
        "id": "pbtdAilPYcMC"
      },
      "execution_count": 62,
      "outputs": []
    },
    {
      "cell_type": "code",
      "source": [
        "for cmp in company.items():\n",
        "  #print(cmp)\n",
        "  fin_data = yf.download(cmp[1][1], start=\"2010-01-01\", end=date.today())\n",
        "  fin_data =fin_data[[\"Close\"]]\n",
        "  fin_data=fin_data.reset_index()\n",
        "  fin_data['Date']=[str(fin_data['Date'][i].date()) for  i in range(len(fin_data))]\n",
        "  fin_data['Company']=cmp[1][0]\n",
        "  fin_data['Industry']=cmp[1][2]\n",
        "  df=df.append(fin_data, ignore_index=False, verify_integrity=False, sort=None)\n",
        "\n"
      ],
      "metadata": {
        "id": "oCoVS5ZAVnhu",
        "outputId": "9c508560-d9de-4114-a94a-4507ab63b039",
        "colab": {
          "base_uri": "https://localhost:8080/"
        }
      },
      "execution_count": 63,
      "outputs": [
        {
          "output_type": "stream",
          "name": "stdout",
          "text": [
            "[*********************100%***********************]  1 of 1 completed\n",
            "[*********************100%***********************]  1 of 1 completed\n",
            "[*********************100%***********************]  1 of 1 completed\n",
            "[*********************100%***********************]  1 of 1 completed\n",
            "[*********************100%***********************]  1 of 1 completed\n",
            "[*********************100%***********************]  1 of 1 completed\n",
            "[*********************100%***********************]  1 of 1 completed\n",
            "[*********************100%***********************]  1 of 1 completed\n",
            "[*********************100%***********************]  1 of 1 completed\n",
            "[*********************100%***********************]  1 of 1 completed\n",
            "[*********************100%***********************]  1 of 1 completed\n",
            "[*********************100%***********************]  1 of 1 completed\n",
            "[*********************100%***********************]  1 of 1 completed\n",
            "[*********************100%***********************]  1 of 1 completed\n",
            "[*********************100%***********************]  1 of 1 completed\n",
            "[*********************100%***********************]  1 of 1 completed\n",
            "[*********************100%***********************]  1 of 1 completed\n",
            "[*********************100%***********************]  1 of 1 completed\n",
            "[*********************100%***********************]  1 of 1 completed\n",
            "[*********************100%***********************]  1 of 1 completed\n",
            "[*********************100%***********************]  1 of 1 completed\n",
            "[*********************100%***********************]  1 of 1 completed\n",
            "[*********************100%***********************]  1 of 1 completed\n",
            "[*********************100%***********************]  1 of 1 completed\n",
            "[*********************100%***********************]  1 of 1 completed\n",
            "[*********************100%***********************]  1 of 1 completed\n",
            "[*********************100%***********************]  1 of 1 completed\n",
            "[*********************100%***********************]  1 of 1 completed\n",
            "[*********************100%***********************]  1 of 1 completed\n",
            "[*********************100%***********************]  1 of 1 completed\n"
          ]
        }
      ]
    },
    {
      "cell_type": "code",
      "source": [
        "df.to_csv('StockMarketdata.csv', index = False, encoding='utf-8')"
      ],
      "metadata": {
        "id": "6JVjJZn3Y00Z"
      },
      "execution_count": 64,
      "outputs": []
    }
  ]
}